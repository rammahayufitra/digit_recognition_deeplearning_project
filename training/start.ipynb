{
 "cells": [
  {
   "cell_type": "code",
   "execution_count": 40,
   "metadata": {},
   "outputs": [],
   "source": [
    "import torch\n",
    "device = torch.device(\"cuda:0\" if torch.cuda.is_available() else \"cpu\")\n",
    "# device = 'cpu'"
   ]
  },
  {
   "cell_type": "code",
   "execution_count": 41,
   "metadata": {},
   "outputs": [],
   "source": [
    "from torchvision import transforms, datasets\n",
    "from torchvision.utils import save_image\n",
    "\n",
    "path_training =  \"../public/data/train/\"\n",
    "path_test =      \"../public/data/val/\"\n",
    "\n",
    "train_transform = transforms.Compose([    \n",
    "    # transforms.ToPILImage(),\n",
    "    transforms.Resize((32,32)),\n",
    "    transforms.ColorJitter(brightness=0.5),\n",
    "    transforms.RandomGrayscale(p=0.2),            \n",
    "    transforms.ToTensor(),\n",
    "    transforms.Normalize([0.5, 0.5, 0.5], [0.5, 0.5, 0.5])\n",
    "])\n",
    "\n",
    "\n",
    "test_transform = transforms.Compose([\n",
    "    # transforms.ToPILImage(),                           \n",
    "    transforms.Resize((32,32)),\n",
    "    transforms.ToTensor(),\n",
    "    transforms.Normalize([0.5, 0.5, 0.5], [0.5, 0.5, 0.5])\n",
    "])\n"
   ]
  },
  {
   "cell_type": "code",
   "execution_count": 42,
   "metadata": {},
   "outputs": [],
   "source": [
    "train_img = datasets.ImageFolder(path_training, transform=train_transform)\n",
    "test_img = datasets.ImageFolder(path_test, transform=test_transform)\n",
    "\n",
    "trainloaders = torch.utils.data.DataLoader(train_img, batch_size=8, shuffle=True)\n",
    "testloaders = torch.utils.data.DataLoader(test_img, batch_size=8, shuffle=True)\n",
    "\n"
   ]
  },
  {
   "cell_type": "code",
   "execution_count": 43,
   "metadata": {},
   "outputs": [
    {
     "name": "stdout",
     "output_type": "stream",
     "text": [
      "tipe data training                   : <class 'torchvision.datasets.folder.ImageFolder'>\n",
      "jumlah data training                 : 348\n",
      "jumlah data test                     : 348\n",
      "kelas data_training                  : ['2', '3', '4', '5', '6', '7', '9']\n"
     ]
    }
   ],
   "source": [
    "print(\"tipe data training                   :\",type(train_img))\n",
    "print(\"jumlah data training                 :\",len(train_img))\n",
    "print(\"jumlah data test                     :\",len(train_img))\n",
    "print(\"kelas data_training                  :\",train_img.classes)"
   ]
  },
  {
   "cell_type": "code",
   "execution_count": 44,
   "metadata": {},
   "outputs": [
    {
     "data": {
      "image/png": "[encoded data removed]",
      "text/plain": [
       "<Figure size 432x288 with 1 Axes>"
      ]
     },
     "metadata": {
      "needs_background": "light"
     },
     "output_type": "display_data"
    },
    {
     "name": "stdout",
     "output_type": "stream",
     "text": [
      "5\n"
     ]
    },
    {
     "data": {
      "image/png": "[encoded data removed]",
      "text/plain": [
       "<Figure size 432x288 with 1 Axes>"
      ]
     },
     "metadata": {
      "needs_background": "light"
     },
     "output_type": "display_data"
    },
    {
     "name": "stdout",
     "output_type": "stream",
     "text": [
      "2\n"
     ]
    }
   ],
   "source": [
    "import numpy as np\n",
    "import matplotlib.pyplot as plt\n",
    "def imshow(data_image, tensor=False):\n",
    "    image = data_image[0]\n",
    "    label = data_image[1]\n",
    "    image = image.numpy().transpose((1, 2, 0))\n",
    "\n",
    "    mean = np.array([0.5, 0.5, 0.5])\n",
    "    std = np.array([0.5, 0.5, 0.5],)\n",
    "    image = std * image + mean\n",
    "    image = np.clip(image, 0, 1)\n",
    "\n",
    "    plt.imshow(image)\n",
    "    plt.show()\n",
    "    \n",
    "    print(train_img.classes[label])\n",
    "\n",
    "for image, label in trainloaders:\n",
    "    for i in range(0,2):\n",
    "        imshow((image[i], label[i]))\n",
    "    break"
   ]
  },
  {
   "cell_type": "code",
   "execution_count": 49,
   "metadata": {},
   "outputs": [
    {
     "data": {
      "text/plain": [
       "LeNet(\n",
       "  (conv_layer_1): Conv2d(3, 6, kernel_size=(5, 5), stride=(1, 1))\n",
       "  (conv_layer_2): Conv2d(6, 16, kernel_size=(5, 5), stride=(1, 1))\n",
       "  (conv_layer_3): Conv2d(16, 120, kernel_size=(5, 5), stride=(1, 1))\n",
       "  (linear_layer_1): Linear(in_features=120, out_features=84, bias=True)\n",
       "  (linear_layer_2): Linear(in_features=84, out_features=7, bias=True)\n",
       "  (pooling_layer): AvgPool2d(kernel_size=(2, 2), stride=(2, 2), padding=0)\n",
       "  (tanh): Tanh()\n",
       ")"
      ]
     },
     "execution_count": 49,
     "metadata": {},
     "output_type": "execute_result"
    }
   ],
   "source": [
    "#{Model Deep Learning}\n",
    "import torch \n",
    "import torch.nn as nn\n",
    "\n",
    "#{klasifikasi menggunakan LeNet5}\n",
    "class LeNet(nn.Module):\n",
    "    def __init__(self):\n",
    "        super(LeNet, self).__init__()\n",
    "        \n",
    "        self.conv_layer_1 = nn.Conv2d(in_channels=3, out_channels=6, kernel_size=(5,5), stride=(1,1), padding=(0,0))\n",
    "        self.conv_layer_2 = nn.Conv2d(in_channels=6, out_channels=16, kernel_size=(5,5), stride=(1,1), padding=(0,0))\n",
    "        self.conv_layer_3 = nn.Conv2d(in_channels=16, out_channels=120, kernel_size=(5,5), stride=(1,1), padding=(0,0))\n",
    "        self.linear_layer_1 = nn.Linear(in_features=120, out_features=84)\n",
    "        self.linear_layer_2 = nn.Linear(in_features=84, out_features=7)\n",
    "        self.pooling_layer = nn.AvgPool2d(kernel_size=(2,2), stride=(2,2))\n",
    "        self.tanh = nn.Tanh()\n",
    "\n",
    "    def forward(self, x):\n",
    "        x = self.conv_layer_1(x)\n",
    "        x = self.tanh(x)\n",
    "        x = self.pooling_layer(x)\n",
    "        \n",
    "        x = self.conv_layer_2(x)\n",
    "        x = self.tanh(x)\n",
    "        x = self.pooling_layer(x)\n",
    "        \n",
    "        x = self.conv_layer_3(x)\n",
    "        x = self.tanh(x)\n",
    "        \n",
    "        x = x.reshape((x.shape[0], -1))\n",
    "        x = self.linear_layer_1(x)\n",
    "        x = self.tanh(x)\n",
    "        \n",
    "        x = self.linear_layer_2(x)\n",
    "        \n",
    "        return x\n",
    "\n",
    "model = LeNet()\n",
    "model.to(torch.device('cuda'))"
   ]
  },
  {
   "cell_type": "code",
   "execution_count": 50,
   "metadata": {},
   "outputs": [],
   "source": [
    "#{Deklarasi Criterion dan Optimizer}\n",
    "# criterion = nn.NLLLoss(reduction=\"sum\")\n",
    "loss_function = nn.CrossEntropyLoss()\n",
    "optimizer = torch.optim.Adam(model.parameters())"
   ]
  },
  {
   "cell_type": "code",
   "execution_count": 52,
   "metadata": {},
   "outputs": [],
   "source": [
    "#{Deklarasi Training dan Validasi}\n",
    "import numpy as np\n",
    "\n",
    "def metrics_batch(target, output):\n",
    "    # obtain output class\n",
    "    pred = output.argmax(dim=1, keepdim=True)\n",
    "    \n",
    "    # compare output class with target class\n",
    "    corrects=pred.eq(target.view_as(pred)).sum().item()\n",
    "    return corrects\n",
    "\n",
    "def loss_batch(loss_func, xb, yb,yb_h, opt=None):\n",
    "    \n",
    "    # obtain loss\n",
    "    loss = loss_func(yb_h, yb)\n",
    "    \n",
    "    # obtain performance metric\n",
    "    metric_b = metrics_batch(yb,yb_h)\n",
    "    \n",
    "    if opt is not None:\n",
    "        loss.backward()\n",
    "        opt.step()\n",
    "        opt.zero_grad()\n",
    "\n",
    "    return loss.item(), metric_b\n",
    "\n",
    "\n",
    "def loss_epoch(model,loss_func,dataset_dl,opt=None):\n",
    "    loss=0.0\n",
    "    metric=0.0\n",
    "    len_data=len(dataset_dl.dataset)\n",
    "    for xb, yb in dataset_dl:\n",
    "        xb=xb.type(torch.float).to(device)\n",
    "        yb=yb.to(device)\n",
    "        \n",
    "        # obtain model output\n",
    "        yb_h=model(xb)\n",
    "\n",
    "        loss_b,metric_b=loss_batch(loss_func, xb, yb,yb_h, opt)\n",
    "        loss+=loss_b\n",
    "        if metric_b is not None:\n",
    "            metric+=metric_b\n",
    "    loss/=len_data\n",
    "    metric/=len_data\n",
    "    return loss, metric\n",
    "\n",
    "\n",
    "\n",
    "def train_val(epochs, model, loss_func, opt, train_dl, val_dl):\n",
    "    for epoch in range(epochs):\n",
    "        model.train()\n",
    "        train_loss, train_metric=loss_epoch(model,loss_func,train_dl,opt)\n",
    "        \n",
    "            \n",
    "        model.eval()\n",
    "        with torch.no_grad():\n",
    "            val_loss, val_metric=loss_epoch(model,loss_func,val_dl)\n",
    "        \n",
    "        accuracy=100*val_metric\n",
    "\n",
    "        print(\"epoch: %d, train loss: %.6f, val loss: %.6f, accuracy: %.2f\" %(epoch, train_loss,val_loss,accuracy))\n",
    "\n"
   ]
  },
  {
   "cell_type": "code",
   "execution_count": 53,
   "metadata": {},
   "outputs": [
    {
     "name": "stdout",
     "output_type": "stream",
     "text": [
      "epoch: 0, train loss: 0.163721, val loss: 0.111060, accuracy: 78.57\n",
      "epoch: 1, train loss: 0.061975, val loss: 0.062132, accuracy: 84.52\n",
      "epoch: 2, train loss: 0.026133, val loss: 0.059130, accuracy: 88.10\n",
      "epoch: 3, train loss: 0.013256, val loss: 0.042702, accuracy: 92.86\n",
      "epoch: 4, train loss: 0.008158, val loss: 0.050322, accuracy: 94.05\n",
      "epoch: 5, train loss: 0.008205, val loss: 0.036026, accuracy: 96.43\n",
      "epoch: 6, train loss: 0.003543, val loss: 0.036031, accuracy: 92.86\n",
      "epoch: 7, train loss: 0.002355, val loss: 0.035030, accuracy: 96.43\n",
      "epoch: 8, train loss: 0.001586, val loss: 0.033295, accuracy: 94.05\n",
      "epoch: 9, train loss: 0.000988, val loss: 0.034545, accuracy: 95.24\n",
      "epoch: 10, train loss: 0.000702, val loss: 0.036760, accuracy: 94.05\n",
      "epoch: 11, train loss: 0.000630, val loss: 0.034717, accuracy: 95.24\n",
      "epoch: 12, train loss: 0.000522, val loss: 0.037769, accuracy: 95.24\n",
      "epoch: 13, train loss: 0.000492, val loss: 0.035491, accuracy: 95.24\n",
      "epoch: 14, train loss: 0.000384, val loss: 0.036096, accuracy: 95.24\n",
      "epoch: 15, train loss: 0.000339, val loss: 0.039961, accuracy: 94.05\n",
      "epoch: 16, train loss: 0.000351, val loss: 0.038783, accuracy: 94.05\n",
      "epoch: 17, train loss: 0.000310, val loss: 0.037663, accuracy: 94.05\n",
      "epoch: 18, train loss: 0.000247, val loss: 0.041796, accuracy: 94.05\n",
      "epoch: 19, train loss: 0.000242, val loss: 0.037974, accuracy: 94.05\n",
      "epoch: 20, train loss: 0.000215, val loss: 0.037934, accuracy: 94.05\n",
      "epoch: 21, train loss: 0.000192, val loss: 0.039523, accuracy: 94.05\n",
      "epoch: 22, train loss: 0.000182, val loss: 0.037499, accuracy: 94.05\n",
      "epoch: 23, train loss: 0.000151, val loss: 0.036333, accuracy: 95.24\n",
      "epoch: 24, train loss: 0.000158, val loss: 0.036090, accuracy: 96.43\n",
      "epoch: 25, train loss: 0.000141, val loss: 0.053454, accuracy: 96.43\n",
      "epoch: 26, train loss: 0.000126, val loss: 0.036831, accuracy: 96.43\n",
      "epoch: 27, train loss: 0.000120, val loss: 0.036998, accuracy: 96.43\n",
      "epoch: 28, train loss: 0.000118, val loss: 0.038871, accuracy: 96.43\n",
      "epoch: 29, train loss: 0.000108, val loss: 0.039283, accuracy: 95.24\n",
      "epoch: 30, train loss: 0.000095, val loss: 0.039452, accuracy: 95.24\n",
      "epoch: 31, train loss: 0.000088, val loss: 0.055238, accuracy: 96.43\n",
      "epoch: 32, train loss: 0.000081, val loss: 0.039228, accuracy: 96.43\n",
      "epoch: 33, train loss: 0.000080, val loss: 0.039515, accuracy: 95.24\n",
      "epoch: 34, train loss: 0.000076, val loss: 0.039847, accuracy: 95.24\n",
      "epoch: 35, train loss: 0.000071, val loss: 0.040606, accuracy: 95.24\n",
      "epoch: 36, train loss: 0.000070, val loss: 0.044400, accuracy: 95.24\n",
      "epoch: 37, train loss: 0.000066, val loss: 0.040789, accuracy: 95.24\n",
      "epoch: 38, train loss: 0.000064, val loss: 0.041110, accuracy: 96.43\n",
      "epoch: 39, train loss: 0.000063, val loss: 0.039911, accuracy: 96.43\n",
      "epoch: 40, train loss: 0.000055, val loss: 0.043631, accuracy: 96.43\n",
      "epoch: 41, train loss: 0.000053, val loss: 0.041564, accuracy: 96.43\n",
      "epoch: 42, train loss: 0.000050, val loss: 0.040615, accuracy: 96.43\n",
      "epoch: 43, train loss: 0.000047, val loss: 0.040853, accuracy: 96.43\n",
      "epoch: 44, train loss: 0.000045, val loss: 0.041134, accuracy: 96.43\n",
      "epoch: 45, train loss: 0.000045, val loss: 0.041428, accuracy: 95.24\n",
      "epoch: 46, train loss: 0.000045, val loss: 0.059850, accuracy: 95.24\n",
      "epoch: 47, train loss: 0.000040, val loss: 0.041560, accuracy: 95.24\n",
      "epoch: 48, train loss: 0.000039, val loss: 0.041257, accuracy: 96.43\n",
      "epoch: 49, train loss: 0.000038, val loss: 0.041597, accuracy: 96.43\n",
      "epoch: 50, train loss: 0.000036, val loss: 0.042192, accuracy: 95.24\n",
      "epoch: 51, train loss: 0.000033, val loss: 0.042040, accuracy: 96.43\n",
      "epoch: 52, train loss: 0.000035, val loss: 0.041687, accuracy: 96.43\n",
      "epoch: 53, train loss: 0.000031, val loss: 0.045640, accuracy: 96.43\n",
      "epoch: 54, train loss: 0.000031, val loss: 0.041751, accuracy: 96.43\n",
      "epoch: 55, train loss: 0.000032, val loss: 0.042586, accuracy: 95.24\n",
      "epoch: 56, train loss: 0.000029, val loss: 0.061198, accuracy: 96.43\n",
      "epoch: 57, train loss: 0.000029, val loss: 0.042832, accuracy: 96.43\n",
      "epoch: 58, train loss: 0.000027, val loss: 0.060497, accuracy: 96.43\n",
      "epoch: 59, train loss: 0.000025, val loss: 0.042709, accuracy: 96.43\n",
      "epoch: 60, train loss: 0.000025, val loss: 0.042490, accuracy: 96.43\n",
      "epoch: 61, train loss: 0.000023, val loss: 0.043305, accuracy: 96.43\n",
      "epoch: 62, train loss: 0.000022, val loss: 0.042910, accuracy: 96.43\n",
      "epoch: 63, train loss: 0.000022, val loss: 0.042302, accuracy: 96.43\n",
      "epoch: 64, train loss: 0.000020, val loss: 0.042640, accuracy: 96.43\n",
      "epoch: 65, train loss: 0.000020, val loss: 0.043218, accuracy: 96.43\n",
      "epoch: 66, train loss: 0.000020, val loss: 0.043429, accuracy: 96.43\n",
      "epoch: 67, train loss: 0.000019, val loss: 0.043521, accuracy: 96.43\n",
      "epoch: 68, train loss: 0.000018, val loss: 0.043474, accuracy: 96.43\n",
      "epoch: 69, train loss: 0.000018, val loss: 0.043532, accuracy: 96.43\n",
      "epoch: 70, train loss: 0.000018, val loss: 0.043526, accuracy: 96.43\n",
      "epoch: 71, train loss: 0.000016, val loss: 0.043742, accuracy: 96.43\n",
      "epoch: 72, train loss: 0.000016, val loss: 0.044041, accuracy: 96.43\n",
      "epoch: 73, train loss: 0.000016, val loss: 0.044204, accuracy: 96.43\n",
      "epoch: 74, train loss: 0.000015, val loss: 0.044104, accuracy: 96.43\n",
      "epoch: 75, train loss: 0.000015, val loss: 0.043926, accuracy: 96.43\n",
      "epoch: 76, train loss: 0.000015, val loss: 0.043684, accuracy: 96.43\n",
      "epoch: 77, train loss: 0.000015, val loss: 0.063547, accuracy: 96.43\n",
      "epoch: 78, train loss: 0.000013, val loss: 0.044443, accuracy: 96.43\n",
      "epoch: 79, train loss: 0.000014, val loss: 0.046804, accuracy: 95.24\n",
      "epoch: 80, train loss: 0.000013, val loss: 0.045934, accuracy: 95.24\n",
      "epoch: 81, train loss: 0.000012, val loss: 0.045621, accuracy: 96.43\n",
      "epoch: 82, train loss: 0.000012, val loss: 0.045543, accuracy: 96.43\n",
      "epoch: 83, train loss: 0.000012, val loss: 0.045075, accuracy: 96.43\n",
      "epoch: 84, train loss: 0.000012, val loss: 0.045222, accuracy: 96.43\n",
      "epoch: 85, train loss: 0.000011, val loss: 0.045686, accuracy: 96.43\n",
      "epoch: 86, train loss: 0.000011, val loss: 0.045633, accuracy: 96.43\n",
      "epoch: 87, train loss: 0.000010, val loss: 0.065652, accuracy: 96.43\n",
      "epoch: 88, train loss: 0.000010, val loss: 0.045903, accuracy: 96.43\n",
      "epoch: 89, train loss: 0.000010, val loss: 0.047004, accuracy: 96.43\n",
      "epoch: 90, train loss: 0.000010, val loss: 0.046164, accuracy: 96.43\n",
      "epoch: 91, train loss: 0.000009, val loss: 0.047343, accuracy: 96.43\n",
      "epoch: 92, train loss: 0.000009, val loss: 0.046274, accuracy: 96.43\n",
      "epoch: 93, train loss: 0.000009, val loss: 0.066571, accuracy: 96.43\n",
      "epoch: 94, train loss: 0.000009, val loss: 0.046392, accuracy: 96.43\n",
      "epoch: 95, train loss: 0.000008, val loss: 0.046028, accuracy: 96.43\n",
      "epoch: 96, train loss: 0.000008, val loss: 0.045915, accuracy: 96.43\n",
      "epoch: 97, train loss: 0.000008, val loss: 0.066879, accuracy: 96.43\n",
      "epoch: 98, train loss: 0.000007, val loss: 0.046348, accuracy: 96.43\n",
      "epoch: 99, train loss: 0.000007, val loss: 0.066020, accuracy: 96.43\n"
     ]
    }
   ],
   "source": [
    "num_epochs=100\n",
    "train_val(num_epochs, model, loss_function, optimizer, trainloaders, testloaders)"
   ]
  },
  {
   "cell_type": "code",
   "execution_count": 33,
   "metadata": {},
   "outputs": [
    {
     "name": "stdout",
     "output_type": "stream",
     "text": [
      "<class 'numpy.ndarray'> (42, 27, 3)\n"
     ]
    },
    {
     "data": {
      "image/png": "[encoded data removed]",
      "text/plain": [
       "<Figure size 432x288 with 1 Axes>"
      ]
     },
     "metadata": {
      "needs_background": "light"
     },
     "output_type": "display_data"
    }
   ],
   "source": [
    "import cv2\n",
    "from PIL import Image\n",
    "imagepath = '../public/data/val/4/4.11.jpg'\n",
    "image_test = cv2.imread(imagepath)\n",
    "print(type(image_test), image_test.shape)\n",
    "image_test=Image.fromarray(image_test)\n",
    "plt.imshow(image_test)\n",
    "plt.show()"
   ]
  },
  {
   "cell_type": "code",
   "execution_count": 34,
   "metadata": {},
   "outputs": [
    {
     "name": "stdout",
     "output_type": "stream",
     "text": [
      "tensor([[-2.3343, -0.8229,  9.8753, -1.4624, -2.1002, -3.4324, -1.9697]],\n",
      "       grad_fn=<AddmmBackward>)\n",
      "PREDICTION: 4\n"
     ]
    },
    {
     "data": {
      "image/png": "[encoded data removed]",
      "text/plain": [
       "<Figure size 432x288 with 1 Axes>"
      ]
     },
     "metadata": {
      "needs_background": "light"
     },
     "output_type": "display_data"
    }
   ],
   "source": [
    "from PIL import Image, ImageDraw\n",
    "image_transformed = test_transform(image_test) \n",
    "image_transformed = image_transformed.unsqueeze(0).to(device)\n",
    "out = model(image_transformed)\n",
    "print(out)\n",
    "print(\"PREDICTION:\", train_img.classes[torch.max(out,1)[1]])\n",
    "\n",
    "plt.imshow(image_test)\n",
    "plt.show()"
   ]
  },
  {
   "cell_type": "code",
   "execution_count": 36,
   "metadata": {},
   "outputs": [],
   "source": [
    "path2model=\"../public/models/model.pt\"\n",
    "torch.save(model,path2model)\n",
    "_model = LeNet()\n",
    "_model=torch.load(path2model)"
   ]
  },
  {
   "cell_type": "code",
   "execution_count": 38,
   "metadata": {},
   "outputs": [
    {
     "data": {
      "text/plain": [
       "<All keys matched successfully>"
      ]
     },
     "execution_count": 38,
     "metadata": {},
     "output_type": "execute_result"
    }
   ],
   "source": [
    "path2weights=\"../public/weights/weight.pt\"\n",
    "# torch.save(model.state_dict(), path2weights)\n",
    "_model = LeNet()\n",
    "# weights=torch.load(path2weights)\n",
    "_model.load_state_dict(path2weights)\n",
    "torch.save(model.state_dict(), path2weights)"
   ]
  },
  {
   "cell_type": "code",
   "execution_count": null,
   "metadata": {},
   "outputs": [],
   "source": []
  },
  {
   "cell_type": "markdown",
   "metadata": {},
   "source": [
    "DEPLOYING MODELS"
   ]
  },
  {
   "cell_type": "code",
   "execution_count": 39,
   "metadata": {},
   "outputs": [
    {
     "name": "stdout",
     "output_type": "stream",
     "text": [
      "<class 'numpy.ndarray'> (42, 27, 3)\n"
     ]
    },
    {
     "data": {
      "image/png": "[encoded data removed]",
      "text/plain": [
       "<Figure size 432x288 with 1 Axes>"
      ]
     },
     "metadata": {
      "needs_background": "light"
     },
     "output_type": "display_data"
    }
   ],
   "source": [
    "import cv2\n",
    "image_test = cv2.imread(imagepath)\n",
    "print(type(image_test), image_test.shape)\n",
    "image_test=Image.fromarray(image_test)\n",
    "plt.imshow(image_test)\n",
    "plt.show()"
   ]
  },
  {
   "cell_type": "code",
   "execution_count": null,
   "metadata": {},
   "outputs": [],
   "source": []
  },
  {
   "cell_type": "code",
   "execution_count": null,
   "metadata": {},
   "outputs": [],
   "source": []
  }
 ],
 "metadata": {
  "kernelspec": {
   "display_name": "Python 3.8.10 64-bit",
   "language": "python",
   "name": "python3"
  },
  "language_info": {
   "codemirror_mode": {
    "name": "ipython",
    "version": 3
   },
   "file_extension": ".py",
   "mimetype": "text/x-python",
   "name": "python",
   "nbconvert_exporter": "python",
   "pygments_lexer": "ipython3",
   "version": "3.8.10"
  },
  "orig_nbformat": 4,
  "vscode": {
   "interpreter": {
    "hash": "916dbcbb3f70747c44a77c7bcd40155683ae19c65e1c03b4aa3499c5328201f1"
   }
  }
 },
 "nbformat": 4,
 "nbformat_minor": 2
}
